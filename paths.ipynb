{
  "nbformat": 4,
  "nbformat_minor": 0,
  "metadata": {
    "colab": {
      "provenance": [],
      "collapsed_sections": [],
      "authorship_tag": "ABX9TyMjfDdjM16SNOf5cGuS5dz0",
      "include_colab_link": true
    },
    "kernelspec": {
      "name": "python3",
      "display_name": "Python 3"
    },
    "language_info": {
      "name": "python"
    }
  },
  "cells": [
    {
      "cell_type": "markdown",
      "metadata": {
        "id": "view-in-github",
        "colab_type": "text"
      },
      "source": [
        "<a href=\"https://colab.research.google.com/github/morokhalid16/advanced-python-test/blob/main/paths.ipynb\" target=\"_parent\"><img src=\"https://colab.research.google.com/assets/colab-badge.svg\" alt=\"Open In Colab\"/></a>"
      ]
    },
    {
      "cell_type": "code",
      "source": [
        "cities =['a', 'b', 'c', 'd', 'k']\n",
        "distances = [1, 3, 4, 2, 7]"
      ],
      "metadata": {
        "id": "LNUYrsYir3S3"
      },
      "execution_count": 21,
      "outputs": []
    },
    {
      "cell_type": "code",
      "source": [
        "def form_graph(cities, distances):\n",
        "  points = list(zip(cities, distances))\n",
        "  graph = dict()\n",
        "  for point in points:\n",
        "    graph[point] = []\n",
        "    for p in points:\n",
        "      if point[0] < p[0] and point[1] < p[1] and point != p:\n",
        "        graph[point].append(p)\n",
        "  return graph \n",
        "\n",
        "\n",
        "graph = form_graph(cities, distances)"
      ],
      "metadata": {
        "id": "BNqEoo9zpoBI"
      },
      "execution_count": 73,
      "outputs": []
    },
    {
      "cell_type": "code",
      "source": [
        "form_graph(cities, distances)"
      ],
      "metadata": {
        "colab": {
          "base_uri": "https://localhost:8080/"
        },
        "id": "3jzl270uqbu_",
        "outputId": "d5f369ad-11af-43bd-9bf3-ed53c53a096d"
      },
      "execution_count": 74,
      "outputs": [
        {
          "output_type": "execute_result",
          "data": {
            "text/plain": [
              "{('a', 1): [('b', 3), ('c', 4), ('d', 2), ('k', 7)],\n",
              " ('b', 3): [('c', 4), ('k', 7)],\n",
              " ('c', 4): [('k', 7)],\n",
              " ('d', 2): [('k', 7)],\n",
              " ('k', 7): []}"
            ]
          },
          "metadata": {},
          "execution_count": 74
        }
      ]
    },
    {
      "cell_type": "code",
      "source": [
        "def DFS(graph, v, seen=None, path=None):\n",
        "  \"\"\" a function that takes a graph and a vertex and return all possible paths starting from the vertex v \"\"\"\n",
        "  #Stopping criteria \n",
        "  if seen is None: seen = []\n",
        "  if path is None: path = [v]\n",
        "  seen.append(v)\n",
        "  paths = []\n",
        "  for neighbor in graph[v]:\n",
        "    if neighbor not in seen:\n",
        "      path_neighbor = path + [neighbor]\n",
        "      paths.append(path_neighbor)\n",
        "      if neighbor == graph[v][-1]:\n",
        "        pass\n",
        "      else:\n",
        "        paths.extend(DFS(graph, neighbor, seen, path_neighbor))\n",
        "  return paths\n",
        "    \n",
        "\n",
        "\n"
      ],
      "metadata": {
        "id": "tY3nQaS6qdD1"
      },
      "execution_count": 75,
      "outputs": []
    },
    {
      "cell_type": "code",
      "source": [
        "DFS(graph, ('a', 1), seen=None, path=None)"
      ],
      "metadata": {
        "colab": {
          "base_uri": "https://localhost:8080/"
        },
        "id": "6CGKbYGHXBav",
        "outputId": "d36339ad-cdcb-41d2-d5e8-91da1a6a3aa7"
      },
      "execution_count": 76,
      "outputs": [
        {
          "output_type": "execute_result",
          "data": {
            "text/plain": [
              "[[('a', 1), ('b', 3)],\n",
              " [('a', 1), ('b', 3), ('c', 4)],\n",
              " [('a', 1), ('b', 3), ('c', 4), ('k', 7)],\n",
              " [('a', 1), ('b', 3), ('k', 7)],\n",
              " [('a', 1), ('d', 2)],\n",
              " [('a', 1), ('d', 2), ('k', 7)],\n",
              " [('a', 1), ('k', 7)]]"
            ]
          },
          "metadata": {},
          "execution_count": 76
        }
      ]
    },
    {
      "cell_type": "code",
      "source": [
        "def get_max_cities(cities, distances):\n",
        "  points = list(zip(cities, distances))\n",
        "  graph = form_graph(cities, distances)\n",
        "  max_cities = 0\n",
        "  path_max = ''\n",
        "  for paths in [DFS(graph, point) for point in points]:\n",
        "    for path in paths:\n",
        "      if len(path) > max_cities:\n",
        "        max_cities = len(path)\n",
        "        path_max = path\n",
        "  print('Maximal path is: ', path_max)\n",
        "  return max_cities\n",
        "\n"
      ],
      "metadata": {
        "id": "j-goG4-xyN5k"
      },
      "execution_count": 77,
      "outputs": []
    },
    {
      "cell_type": "code",
      "source": [
        "get_max_cities(cities, distances)"
      ],
      "metadata": {
        "colab": {
          "base_uri": "https://localhost:8080/"
        },
        "id": "vXFk8zNjWTiG",
        "outputId": "8c30499f-c9d1-4ddc-c164-f8b518d62995"
      },
      "execution_count": 78,
      "outputs": [
        {
          "output_type": "stream",
          "name": "stdout",
          "text": [
            "Maximal path is:  [('a', 1), ('b', 3), ('c', 4), ('k', 7)]\n"
          ]
        },
        {
          "output_type": "execute_result",
          "data": {
            "text/plain": [
              "4"
            ]
          },
          "metadata": {},
          "execution_count": 78
        }
      ]
    },
    {
      "cell_type": "code",
      "source": [
        "def get_all_paths2(cities, distances):\n",
        "  all_paths = []\n",
        "  all_distances = []\n",
        "  couple = list(zip(cities, distances))\n",
        "  order_per_alpha = sorted(couple, key = lambda x: x[0])\n",
        "  order_per_distance = sorted(couple, key = lambda x: x[1])\n",
        "  for city, distance in order_per_distance:\n",
        "    path = [city] \n",
        "    last_distance = distance\n",
        "    last_city = city\n",
        "    for next_city, next_distance in order_per_alpha:\n",
        "      if last_distance < next_distance and last_city < next_city:\n",
        "        path.append(next_city)\n",
        "        last_distance = next_distance\n",
        "        last_city = next_city\n",
        "    if len(path) > 1:\n",
        "      all_paths.append(path)\n",
        "  \n",
        "  return all_paths\n",
        "  "
      ],
      "metadata": {
        "id": "N9gLvMRFy6jm"
      },
      "execution_count": 90,
      "outputs": []
    },
    {
      "cell_type": "code",
      "source": [
        "def get_max_cities2(cities, distances):\n",
        "  couple = dict(zip(cities, distances))\n",
        "  all_paths = get_all_paths2(cities, distances)\n",
        "  max_cities = 0\n",
        "  path_max = ''\n",
        "  for path in all_paths:\n",
        "      if len(path) > max_cities:\n",
        "        max_cities = len(path)\n",
        "        path_max = path\n",
        "  corresponding_distances = [couple[p] for p in  path_max]\n",
        "  print('Maximal path is: ', path_max)\n",
        "  print('Corresponding distances are: ', corresponding_distances)\n",
        "  return max_cities"
      ],
      "metadata": {
        "id": "jLYezr7xVaP7"
      },
      "execution_count": 97,
      "outputs": []
    },
    {
      "cell_type": "markdown",
      "source": [
        "# Test with big"
      ],
      "metadata": {
        "id": "LrCri_HWaT-X"
      }
    },
    {
      "cell_type": "code",
      "source": [
        "import random\n",
        "import string\n",
        "n = 10**3\n",
        "def get_random_string(lenght):\n",
        "  letters = string.ascii_lowercase\n",
        "  result_str = ''.join(random.choice(letters) for i in range(lenght))\n",
        "  return result_str\n",
        "\n",
        "def get_random_numbers(n):\n",
        "  setOfNumbers = set()\n",
        "  while len(setOfNumbers) < n:\n",
        "    setOfNumbers.add(random.randint(1, n+2))\n",
        "  return list(setOfNumbers)\n",
        "\n",
        "big_cities = [get_random_string(lenght=6) for _ in range(n)]\n",
        "big_numbers = get_random_numbers(n)"
      ],
      "metadata": {
        "id": "9N_X8_gKaVfc"
      },
      "execution_count": 81,
      "outputs": []
    },
    {
      "cell_type": "code",
      "source": [
        "import time\n",
        "start_time = time.time()\n",
        "print('Maximal number of  cities: ', get_max_cities(big_cities, big_numbers))\n",
        "print(\"--- %s seconds ---\" % (time.time() - start_time))"
      ],
      "metadata": {
        "colab": {
          "base_uri": "https://localhost:8080/"
        },
        "id": "nEhIokVhbBgk",
        "outputId": "fa669663-ed38-4e4f-df71-0476bdc98c71"
      },
      "execution_count": 82,
      "outputs": [
        {
          "output_type": "stream",
          "name": "stdout",
          "text": [
            "Maximal path is:  [('cobumg', 34), ('ddfshr', 36), ('ibioai', 37), ('jcdqdk', 38), ('mmgbwv', 39), ('qtbsix', 40), ('tejwql', 45), ('tlijjr', 46), ('trusws', 47), ('uikxnt', 58), ('wtiwoh', 65), ('wvecxg', 69), ('xbwjvw', 77), ('xfbrrw', 78), ('xnhsjb', 88), ('ybqdya', 98), ('ycatgg', 208), ('ycmcbi', 494), ('yhyvji', 551), ('yirorc', 635), ('yjrghi', 843), ('ymbevl', 918), ('zqcdae', 1002)]\n",
            "Maximal cities:  23\n",
            "--- 212.02881383895874 seconds ---\n"
          ]
        }
      ]
    },
    {
      "cell_type": "code",
      "source": [
        "import time\n",
        "start_time = time.time()\n",
        "print('Maximal number of cities: ', get_max_cities2(big_cities, big_numbers))\n",
        "print(\"--- %s seconds ---\" % (time.time() - start_time))"
      ],
      "metadata": {
        "colab": {
          "base_uri": "https://localhost:8080/"
        },
        "id": "gKiMYOdHb49M",
        "outputId": "0da9d71a-54b2-4e42-c0a6-c2af8a823aa5"
      },
      "execution_count": 99,
      "outputs": [
        {
          "output_type": "stream",
          "name": "stdout",
          "text": [
            "Maximal path is:  ['iqxdqc', 'irppgb', 'isxmfi', 'itntha', 'ivgrll', 'ivrwtk', 'izwykp', 'jbeffo', 'jibyho', 'jmjvgx', 'kdprky', 'mceigz', 'mkqbfn', 'nkcsbr', 'zqcdae']\n",
            "Corresponding distances are:  [233, 241, 392, 510, 598, 618, 832, 890, 919, 955, 963, 988, 990, 999, 1002]\n",
            "Maximal number of cities:  15\n",
            "--- 0.11700296401977539 seconds ---\n"
          ]
        }
      ]
    },
    {
      "cell_type": "code",
      "source": [],
      "metadata": {
        "id": "Qsi48HXSgfrN"
      },
      "execution_count": null,
      "outputs": []
    }
  ]
}